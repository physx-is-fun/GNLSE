{
 "cells": [
  {
   "cell_type": "markdown",
   "metadata": {},
   "source": [
    "# Generalized nonlinear Schrödinger equation"
   ]
  },
  {
   "cell_type": "markdown",
   "metadata": {},
   "source": [
    "## 📜 **Generalized NLSE Used in the Code**\n",
    "\n",
    "The evolution of the complex envelope $ A(x, y, t; z) $ along the propagation axis $ z $ is governed by:\n",
    "\n",
    "$$\n",
    "\\boxed{\n",
    "\\begin{aligned}\n",
    "\\frac{\\partial A}{\\partial z} &= \\underbrace{i \\frac{1}{2k_0} \\left( \\frac{\\partial^2 A}{\\partial x^2} + \\frac{\\partial^2 A}{\\partial y^2} \\right)}_{\\textbf{(1) Diffraction}} \n",
    "\\underbrace{-i \\frac{\\beta_2}{2} \\frac{\\partial^2 A}{\\partial t^2} + \\frac{\\beta_3}{6} \\frac{\\partial^3 A}{\\partial t^3}}_{\\textbf{(2) Dispersion (GDD + TOD)}}\n",
    " \\underbrace{-i \\gamma \\left(1 - \\frac{i}{\\omega_0} \\frac{\\partial}{\\partial t}\\right)\\left(|A|^2 A\\right)}_{\\text{(3) Kerr + self-steepening}} \n",
    " \\underbrace{-\\frac{\\alpha}{2} A}_{\\text{(4) Linear absorbtion}}\n",
    " \\underbrace{+ i \\gamma T_R A \\frac{\\partial}{\\partial t}\\left(|A|^2\\right)}_{\\text{(5) Raman}} \n",
    "\\end{aligned}\n",
    "}\n",
    "$$\n",
    "\n",
    "where:\n",
    "\n",
    "- $ A(x,y,t;z) $: complex field envelope\n",
    "- $ k_0 = \\omega_0 / c $: central wavenumber\n",
    "- $ c $: speed of light in vacuum\n",
    "- $ \\beta_2, \\beta_3 $: group delay dispersion (GDD) and third-order dispersion (TOD)\n",
    "- $ \\gamma $: Kerr nonlinear coefficient\n",
    "- $ \\omega_0 $: central angular frequency\n",
    "- $ \\alpha $: linear absorption coefficient\n",
    "- $ T_R $: Raman response\n",
    "\n",
    "This makes our system capable of modeling ultrashort laser pulse propagation in **nonlinear, lossy media**. There are two ways to derive the GNLSE: from the Agrawal book and from the Ursula Keller book, because it depends on the Fourier transform convention. I choosed Ursula Keller's notation, because python's FFT and IFFT library incorporates the Ursula Keller's convention.\n",
    "\n",
    "---"
   ]
  },
  {
   "cell_type": "markdown",
   "metadata": {},
   "source": [
    "## Importing the modules"
   ]
  },
  {
   "cell_type": "code",
   "execution_count": null,
   "metadata": {
    "tags": []
   },
   "outputs": [],
   "source": [
    "from libraries import *\n",
    "from variables import *\n",
    "from functions import *\n",
    "from classes import *"
   ]
  },
  {
   "cell_type": "markdown",
   "metadata": {},
   "source": [
    "## Initialize class about laser parameters"
   ]
  },
  {
   "cell_type": "code",
   "execution_count": null,
   "metadata": {
    "tags": []
   },
   "outputs": [],
   "source": [
    "laser = LASER_config(lambda0, tau0, repetition_frequency, average_power, beam_waist)"
   ]
  },
  {
   "cell_type": "markdown",
   "metadata": {},
   "source": [
    "## Initialize class about fiber parameters"
   ]
  },
  {
   "cell_type": "code",
   "execution_count": null,
   "metadata": {},
   "outputs": [],
   "source": [
    "fiber = FIBER_config(alpha_dB_per_m, beta2, beta3, effective_mode_diameter, nonlinear_refractive_index, lambda0, B1, B2, B3, C1, C2, C3)"
   ]
  },
  {
   "cell_type": "markdown",
   "metadata": {},
   "source": [
    "## Initialize class about simulation parameters"
   ]
  },
  {
   "cell_type": "code",
   "execution_count": null,
   "metadata": {},
   "outputs": [],
   "source": [
    "simulation = SIMULATION_config(nt, t_max, nx, x_max, ny, y_max, nz, z_max, lambda0)"
   ]
  },
  {
   "cell_type": "markdown",
   "metadata": {},
   "source": [
    "## Initialize class about compressor parameters"
   ]
  },
  {
   "cell_type": "code",
   "execution_count": null,
   "metadata": {},
   "outputs": [],
   "source": [
    "compressor = COMPRESSOR_config(GDD_mirror, N_bouncing)"
   ]
  },
  {
   "cell_type": "markdown",
   "metadata": {},
   "source": [
    "## Testing the defined GaussianPulseTime function"
   ]
  },
  {
   "cell_type": "code",
   "execution_count": null,
   "metadata": {
    "tags": []
   },
   "outputs": [],
   "source": [
    "# Initialize Gaussian pulse in the time domain\n",
    "X, Y, T = np.meshgrid(simulation.x, simulation.y, simulation.t, indexing='ij')\n",
    "testPulse = GaussianPulse(T,laser.tau0, X, Y, laser.beam_waist, laser.amplitude)\n",
    "testPulse = testPulse[simulation.nx // 2, simulation.ny // 2, :]\n",
    "\n",
    "fig, ax1 = plt.subplots()\n",
    "ax2 = ax1.twinx()\n",
    "plt.title(\"Initial pulse\")\n",
    "ax1.plot(simulation.t_fs,getIntensity(testPulse)/np.max(getIntensity(testPulse)),'g-')\n",
    "ax2.plot(simulation.t_fs,abs(testPulse)/np.max(abs(testPulse)),'b-')\n",
    "ax1.set_xlabel(\"Time [fs]\")\n",
    "ax1.set_ylabel(\"Intensity [arbitrary unit]\", color='g')\n",
    "ax2.set_ylabel(\"Amplitude [arbitrary unit]\", color='b')\n",
    "ax1.set_ylim(0,1)\n",
    "ax2.set_ylim(0,1)\n",
    "plt.xlim(-5*laser.tau0*1e15,5*laser.tau0*1e15)\n",
    "savePlot('initial pulse')\n",
    "plt.show()"
   ]
  },
  {
   "cell_type": "markdown",
   "metadata": {},
   "source": [
    "## Testing the defined getSpectrumFromPulse function"
   ]
  },
  {
   "cell_type": "code",
   "execution_count": null,
   "metadata": {
    "tags": []
   },
   "outputs": [],
   "source": [
    "# Getting spectrum from pulse\n",
    "testSpectrum=getSpectrumFromPulse(simulation.t,testPulse)\n",
    "plt.figure()\n",
    "plt.title(\"Spectrum of initial pulse\")\n",
    "plt.plot(simulation.f_PHz_rel,getIntensity(testSpectrum)/np.max(getIntensity(testSpectrum)),label=\"Spectrum of testPulse\")\n",
    "#plt.axis([-1 + laser.frequency0,1 + laser.frequency0,0,1])\n",
    "plt.xlabel(\"Frequency [PHz]\")\n",
    "plt.ylabel(\"Intensity [arbitrary unit]\")\n",
    "plt.legend()\n",
    "savePlot('spectrum of the initial pulse')\n",
    "plt.show()"
   ]
  },
  {
   "cell_type": "markdown",
   "metadata": {},
   "source": [
    "## Testing the defined getPulseFromSpectrum function"
   ]
  },
  {
   "cell_type": "code",
   "execution_count": null,
   "metadata": {},
   "outputs": [],
   "source": [
    "# Getting pulse from spectrum\n",
    "testPulse2 = getPulseFromSpectrum(simulation.t,testSpectrum)\n",
    "plt.figure()\n",
    "plt.title(\"Initial pulse and initial pulse 2\")\n",
    "plt.plot(simulation.t_fs,getIntensity(testPulse)/np.max(getIntensity(testPulse)),label=\"testPulse\")\n",
    "plt.plot(simulation.t_fs,getIntensity(testPulse2)/np.max(getIntensity(testPulse2)),label=\"testPulse2\")\n",
    "plt.xlim(-5*laser.tau0*1e15,5*laser.tau0*1e15)\n",
    "plt.xlabel(\"Time [fs]\")\n",
    "plt.ylabel(\"Intensity [arbitrary unit]\")\n",
    "plt.legend()\n",
    "savePlot('Initial pulse 2')\n",
    "plt.show()"
   ]
  },
  {
   "cell_type": "markdown",
   "metadata": {},
   "source": [
    "## Testing the FWHM function"
   ]
  },
  {
   "cell_type": "code",
   "execution_count": null,
   "metadata": {},
   "outputs": [],
   "source": [
    "FWHM_frequency=FWHM(simulation.f,getIntensity(testSpectrum))\n",
    "FWHM_time=FWHM(simulation.t,getIntensity(testPulse))\n",
    "product=FWHM_frequency*FWHM_time\n",
    "print(f\"The product of the pulse and the spectrum's FWHM is {product}\")"
   ]
  },
  {
   "cell_type": "markdown",
   "metadata": {},
   "source": [
    "# Some safety stuff"
   ]
  },
  {
   "cell_type": "code",
   "execution_count": null,
   "metadata": {},
   "outputs": [],
   "source": [
    "#%%script false\n",
    "# Calculate CFL for each spatial direction (for both x and y)\n",
    "CFL_x = (c * simulation.dt) / simulation.dx\n",
    "CFL_y = (c * simulation.dt) / simulation.dy\n",
    "# For nonlinear Schrödinger equation, consider the nonlinear term (gamma)\n",
    "# Here you include a basic term for the nonlinearity (Kerr effect), you may need to adjust this\n",
    "CFL_nonlinear = (fiber.gamma * simulation.dt) / (simulation.dx)  # Simple estimation of nonlinear influence\n",
    "# Maximum CFL values for stability\n",
    "CFL_max = 0.9  # This is typically the maximum stable CFL number; you can adjust this\n",
    "if CFL_x <= CFL_max and CFL_y <= CFL_max and CFL_nonlinear <= CFL_max:\n",
    "    print(f\"CFL condition is satisfied!\")\n",
    "else:\n",
    "    raise ValueError('CFL condition NOT satisfied!')\n",
    "\n",
    "# Compute stability step sizes\n",
    "W_max = np.max(simulation.w)\n",
    "dz_est = estimate_stable_dz(fiber.gamma, laser.peak_power, laser.lambda0, n0, fiber.beta2, W_max)\n",
    "dt_est, dx_est, dy_est = estimate_grid_resolution(laser.tau0, laser.beam_waist, W_max)\n",
    "print('Stable dt value: ',dt_est)\n",
    "print('Stable dx value: ',dx_est)\n",
    "print('Stable dy value: ',dy_est)\n",
    "print('Stable dz value: ',dz_est)\n",
    "\n",
    "# Calculate critical peak power\n",
    "P_crit = laser.lambda0**2 / (2*np.pi*n0*fiber.nonlinear_refractive_index)\n",
    "P_0 = laser.peak_power\n",
    "if P_0 < P_crit:\n",
    "    print(f\"Crytical power condition is not satisfied for self-focusing!\")\n",
    "else:\n",
    "    raise ValueError(f'Crytical power condition is satisfied for self focusing!')\n",
    "\n",
    "# Calculate nonlinear phase shift limit\n",
    "phi_nl = fiber.gamma*laser.peak_power*simulation.z_max\n",
    "if phi_nl < 2*np.pi:\n",
    "    print(f\"Clean pulse propagation or compression is achieved!\")\n",
    "else:\n",
    "    raise ValueError('Significant SPM and pulse distortion!')\n",
    "# Intensity and physical effect regimes\n",
    "if laser.peak_intensity <= 1e15:\n",
    "    print(\"Linear propagation regime!\")\n",
    "elif (laser.peak_intensity > 1e15 and  laser.peak_intensity <= 1e17):\n",
    "    print(\"Kerr + SPM regime!\")\n",
    "elif (laser.peak_intensity > 1e17 and  laser.peak_intensity <= 3e17):\n",
    "    raise ValueError('Self-focusing threshold regime!')\n",
    "elif (laser.peak_intensity >= 1e18):\n",
    "    raise ValueError('Ionization/damage regime!')\n",
    "\n",
    "# You want N ≥ 1 for at least a fundamental soliton.\n",
    "N_soliton = np.sqrt(fiber.gamma * laser.peak_power * laser.tau0**2 / np.abs(fiber.beta2))\n",
    "print(\"Soliton number:\", N_soliton)"
   ]
  },
  {
   "cell_type": "markdown",
   "metadata": {},
   "source": [
    "# Run Simulation"
   ]
  },
  {
   "cell_type": "code",
   "execution_count": null,
   "metadata": {},
   "outputs": [],
   "source": [
    "#%%script false\n",
    "A_snapshots, Energy_values = Simulation(fiber,simulation,laser)"
   ]
  },
  {
   "cell_type": "markdown",
   "metadata": {},
   "source": [
    "## Initialize functions for plotting the results"
   ]
  },
  {
   "cell_type": "code",
   "execution_count": null,
   "metadata": {},
   "outputs": [],
   "source": [
    "#%%script false\n",
    "plotFirstAndLastPulse(A_snapshots,simulation)\n",
    "plotFirstAndLastSpectrum(A_snapshots,simulation)\n",
    "plotPeakIntensity(A_snapshots,simulation)\n",
    "plotXYBeamprofile(A_snapshots,simulation)\n",
    "plotPulseEvolution(A_snapshots,simulation)\n",
    "plotSpectrumEvolution(A_snapshots,simulation)\n",
    "plotWavelength(A_snapshots,simulation,laser)\n",
    "plotPhotonNumberValues(Energy_values,simulation)"
   ]
  },
  {
   "cell_type": "markdown",
   "metadata": {},
   "source": [
    "## Dispersion compensation"
   ]
  },
  {
   "cell_type": "code",
   "execution_count": null,
   "metadata": {},
   "outputs": [],
   "source": [
    "#%%script false\n",
    "# Apply compressor phase\n",
    "compressor = COMPRESSOR_config(GDD_mirror,1)\n",
    "compressor_dispersion = np.exp(1j * compressor.GDD_compressor / 2 * (simulation.w)**2)\n",
    "initial_pulse = A_snapshots[0][simulation.nx // 2, simulation.ny // 2, :]\n",
    "initial_pulse = getIntensity(initial_pulse)\n",
    "initial_pulse_maximum = np.max(initial_pulse)\n",
    "initial_pulse /= initial_pulse_maximum\n",
    "final_pulse = A_snapshots[-1][simulation.nx // 2, simulation.ny // 2, :]\n",
    "## Apply GDD in frequency domain\n",
    "final_pulse_fft = fftshift(fft(ifftshift(final_pulse)))\n",
    "final_pulse_fft *= compressor_dispersion\n",
    "dispersion_compensated_final_pulse = fftshift(ifft(ifftshift(final_pulse_fft)))\n",
    "dispersion_compensated_final_pulse = getIntensity(dispersion_compensated_final_pulse)\n",
    "dispersion_compensated_final_pulse /= initial_pulse_maximum\n",
    "# Create a figure for z-t evolution of initial and final pulses\n",
    "plt.figure(figsize=(10, 4))\n",
    "# Plot the intensity as a function of time for both the initial and final pulses\n",
    "plt.plot(simulation.t_fs, initial_pulse, label='Initial pulse')\n",
    "plt.plot(simulation.t_fs, dispersion_compensated_final_pulse, label='Dispersion compensated final pulse')\n",
    "plt.xlabel('Time [fs]')\n",
    "plt.ylabel('Intensity [a.u.]')\n",
    "plt.title('Initial vs final dispersion compensated pulse at beam center')\n",
    "plt.legend()\n",
    "plt.tight_layout()\n",
    "savePlot('Initial vs final dispersion compensated pulse at beam center')\n",
    "plt.show()"
   ]
  }
 ],
 "metadata": {
  "kernelspec": {
   "display_name": "Python 3",
   "language": "python",
   "name": "python3"
  },
  "language_info": {
   "codemirror_mode": {
    "name": "ipython",
    "version": 3
   },
   "file_extension": ".py",
   "mimetype": "text/x-python",
   "name": "python",
   "nbconvert_exporter": "python",
   "pygments_lexer": "ipython3",
   "version": "3.11.5"
  }
 },
 "nbformat": 4,
 "nbformat_minor": 4
}
